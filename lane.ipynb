{
 "cells": [
  {
   "cell_type": "code",
   "execution_count": 1,
   "metadata": {},
   "outputs": [],
   "source": [
    "from nuscenes.nuscenes import NuScenes\n",
    "from nuscenes.map_expansion.map_api import NuScenesMap\n",
    "from pyquaternion import Quaternion\n",
    "from ultralytics import YOLO\n",
    "import json\n",
    "from tqdm import tqdm\n",
    "from utils_drivelm import get_option, action_map"
   ]
  },
  {
   "cell_type": "code",
   "execution_count": 2,
   "metadata": {},
   "outputs": [
    {
     "name": "stdout",
     "output_type": "stream",
     "text": [
      "======\n",
      "Loading NuScenes tables for version v1.0-trainval...\n"
     ]
    },
    {
     "name": "stdout",
     "output_type": "stream",
     "text": [
      "23 category,\n",
      "8 attribute,\n",
      "4 visibility,\n",
      "64386 instance,\n",
      "12 sensor,\n",
      "10200 calibrated_sensor,\n",
      "2631083 ego_pose,\n",
      "68 log,\n",
      "850 scene,\n",
      "34149 sample,\n",
      "2631083 sample_data,\n",
      "1166187 sample_annotation,\n",
      "4 map,\n",
      "Done loading in 39.013 seconds.\n",
      "======\n",
      "Reverse indexing ...\n",
      "Done reverse indexing in 11.4 seconds.\n",
      "======\n"
     ]
    }
   ],
   "source": [
    "nusc = NuScenes(version='v1.0-trainval', dataroot='/data2/common/xuanyang/nuscenes', verbose=True)"
   ]
  },
  {
   "cell_type": "code",
   "execution_count": 3,
   "metadata": {},
   "outputs": [],
   "source": [
    "map_singapore_onenorth = NuScenesMap(dataroot='/data2/common/xuanyang/nuscenes', map_name='singapore-onenorth')\n",
    "map_singapore_hollandvillage = NuScenesMap(dataroot='/data2/common/xuanyang/nuscenes', map_name='singapore-hollandvillage')\n",
    "map_boston_seaport = NuScenesMap(dataroot='/data2/common/xuanyang/nuscenes', map_name='boston-seaport')\n",
    "map_singapore_queenstown = NuScenesMap(dataroot='/data2/common/xuanyang/nuscenes', map_name='singapore-queenstown')"
   ]
  },
  {
   "cell_type": "code",
   "execution_count": 4,
   "metadata": {},
   "outputs": [],
   "source": [
    "def get_map_instance_from_frame(scene_token):\n",
    "    scene_info = nusc.get('scene', scene_token)\n",
    "    log_info = nusc.get('log', scene_info['log_token'])\n",
    "    map_name = log_info['location']\n",
    "    if map_name == 'singapore-onenorth':\n",
    "        map_instance = map_singapore_onenorth\n",
    "    elif map_name == 'singapore-hollandvillage':\n",
    "        map_instance = map_singapore_hollandvillage\n",
    "    elif map_name == 'boston-seaport':\n",
    "        map_instance = map_boston_seaport\n",
    "    elif map_name == 'singapore-queenstown':\n",
    "        map_instance = map_singapore_queenstown\n",
    "    else:\n",
    "        raise ValueError('Unsupported map name')\n",
    "    return map_instance\n",
    "\n",
    "\n",
    "def get_ego_pose(frame_token):\n",
    "    sample_info = nusc.get('sample', frame_token)\n",
    "    cam_front_data = nusc.get('sample_data', sample_info['data']['CAM_FRONT'])\n",
    "    ego_pose_info = nusc.get('ego_pose', cam_front_data['ego_pose_token'])\n",
    "    return ego_pose_info['translation'], ego_pose_info['rotation']\n",
    "\n",
    "\n",
    "def search_lane(map_instance, lane_token):\n",
    "    lanes = map_instance.lane\n",
    "    for lane_info in lanes:\n",
    "        if lane_info['token'] == lane_token:\n",
    "            return lane_info\n",
    "    # print (f\"Error: {lane_token} not found\")\n",
    "    return None\n",
    "\n",
    "\n",
    "def get_nearby_lane_types(map_instance, scene_token, frame_token):\n",
    "    ego_translation, ego_rotation = get_ego_pose(frame_token)\n",
    "    ego_x, ego_y, ego_z = ego_translation\n",
    "    road_on_point = map_instance.layers_on_point(ego_x, ego_y)\n",
    "    closest_lane = map_instance.get_closest_lane(ego_x, ego_y, radius=3)\n",
    "    lane_info = search_lane(map_instance, closest_lane)\n",
    "    return ego_x, ego_y, road_on_point, lane_info\n",
    "\n",
    "\n",
    "def get_node_info(map_instance, node_token):\n",
    "    all_node = map_instance.node\n",
    "    for node in all_node:\n",
    "        if node['token'] == node_token:\n",
    "            return node\n",
    "\n",
    "\n",
    "def distance_cal(x1,y1,x2,y2):\n",
    "    return ((x1-x2)**2 + (y1-y2)**2)**0.5\n",
    "\n",
    "\n",
    "def get_divider_type(ego_x, ego_y, map_instance, divider_segment_info):\n",
    "    min_distance = 100000000\n",
    "    min_node = None\n",
    "    for node in divider_segment_info:\n",
    "        node_info = get_node_info(map_instance, node['node_token'])\n",
    "        distance = distance_cal(ego_x, ego_y, node_info['x'], node_info['y'])\n",
    "        if distance < min_distance:\n",
    "            min_node = node\n",
    "            min_distance = distance\n",
    "    return min_node\n",
    "\n",
    "\n",
    "def condition_predicate_extractor(conv_path, question_path, detect_info_save_path):\n",
    "    yolo = YOLO('best.pt')\n",
    "    with open(conv_path, 'r') as f:\n",
    "        conv = json.load(f)\n",
    "    with open(question_path, 'r') as f:\n",
    "        questions = json.load(f)\n",
    "    all_detect_info = []\n",
    "    for conversation in tqdm(conv):\n",
    "        id = conversation['id']\n",
    "        scene_id = id.split('_')[0]\n",
    "        frame_id = id.split('_')[1]\n",
    "        # yolo_detection\n",
    "        images = conversation['image'][:3] # cam_front cam_front_right cam_front_left\n",
    "        yolo_results = set()\n",
    "        yolo_result_list = []\n",
    "        detected_classes = []\n",
    "        for img_path in images:\n",
    "            detections = yolo(img_path, verbose=False)\n",
    "            for detection in detections:\n",
    "                for box in detection.boxes:\n",
    "                    class_name = yolo.names[int(box.cls)]\n",
    "                    detected_classes.append(class_name)\n",
    "        if detected_classes:\n",
    "            yolo_results.update(detected_classes)\n",
    "        \n",
    "        # condition_predicate_extractor\n",
    "        map_instance = get_map_instance_from_frame(scene_id)\n",
    "        ego_x, ego_y, road_on_point, lane_info = get_nearby_lane_types(map_instance, scene_id, frame_id)\n",
    "        if road_on_point['ped_crossing'] != '':\n",
    "            yolo_results.add('pedestrianCrossing')\n",
    "        if road_on_point['stop_line'] != '':\n",
    "            yolo_results.add('stopLine')\n",
    "        if lane_info:\n",
    "            if lane_info['left_lane_divider_segments']:\n",
    "                left_min_node = get_divider_type(ego_x, ego_y, map_instance, lane_info['left_lane_divider_segments'])\n",
    "                yolo_results.add(left_min_node['segment_type']+'_LEFT')\n",
    "            if lane_info['right_lane_divider_segments']:\n",
    "                right_min_node = get_divider_type(ego_x, ego_y, map_instance, lane_info['right_lane_divider_segments'])\n",
    "                yolo_results.add(right_min_node['segment_type']+ '_RIGHT')\n",
    "        \n",
    "        # action_predicate\n",
    "        question_part = questions[scene_id][\"key_frames\"][frame_id][\"QA\"][\"behavior\"][0][\"Q\"]\n",
    "        answer = questions[scene_id][\"key_frames\"][frame_id][\"QA\"][\"behavior\"][0][\"A\"]\n",
    "        option = get_option(question_part, answer)\n",
    "        action_list = action_map(option)\n",
    "        \n",
    "        # save\n",
    "        yolo_result_list = list(yolo_results)\n",
    "        single_detect_info = {\n",
    "            'image_id': id,\n",
    "            'classes': yolo_result_list,\n",
    "            'action': action_list,\n",
    "        }\n",
    "        all_detect_info.append(single_detect_info)\n",
    "        with open(detect_info_save_path, 'w') as f:\n",
    "            json.dump(all_detect_info, f)  \n",
    "            \n",
    "\n",
    "        \n",
    "    "
   ]
  },
  {
   "cell_type": "code",
   "execution_count": 5,
   "metadata": {},
   "outputs": [
    {
     "name": "stderr",
     "output_type": "stream",
     "text": [
      "/data2/common/xuanyang/anaconda3/envs/exPlainDriver/lib/python3.10/site-packages/ultralytics/nn/tasks.py:781: FutureWarning: You are using `torch.load` with `weights_only=False` (the current default value), which uses the default pickle module implicitly. It is possible to construct malicious pickle data which will execute arbitrary code during unpickling (See https://github.com/pytorch/pytorch/blob/main/SECURITY.md#untrusted-models for more details). In a future release, the default value for `weights_only` will be flipped to `True`. This limits the functions that could be executed during unpickling. Arbitrary objects will no longer be allowed to be loaded via this mode unless they are explicitly allowlisted by the user via `torch.serialization.add_safe_globals`. We recommend you start setting `weights_only=True` for any use case where you don't have full control of the loaded file. Please open an issue on GitHub for any issues related to this experimental feature.\n",
      "  ckpt = torch.load(file, map_location=\"cpu\")\n",
      "  0%|          | 0/799 [00:00<?, ?it/s]"
     ]
    },
    {
     "name": "stderr",
     "output_type": "stream",
     "text": [
      "100%|██████████| 799/799 [03:19<00:00,  4.01it/s]\n"
     ]
    }
   ],
   "source": [
    "# conv_path = 'DriveLM_process/conversation_drivelm_train.json'\n",
    "# question_path = 'DriveLM_process/train_eval.json'\n",
    "# save_path = 'process_data_drivelm/train/train_detected_classes.json'\n",
    "\n",
    "conv_path = 'DriveLM_process/conversation_drivelm_val.json'\n",
    "question_path = 'DriveLM_process/v1_1_val_nus_q_only.json'\n",
    "save_path = 'process_data_drivelm/test/test_detected_classes.json'\n",
    "\n",
    "condition_predicate_extractor(conv_path, question_path, save_path)"
   ]
  }
 ],
 "metadata": {
  "kernelspec": {
   "display_name": "exPlainDriver",
   "language": "python",
   "name": "python3"
  },
  "language_info": {
   "codemirror_mode": {
    "name": "ipython",
    "version": 3
   },
   "file_extension": ".py",
   "mimetype": "text/x-python",
   "name": "python",
   "nbconvert_exporter": "python",
   "pygments_lexer": "ipython3",
   "version": "3.10.14"
  }
 },
 "nbformat": 4,
 "nbformat_minor": 2
}
